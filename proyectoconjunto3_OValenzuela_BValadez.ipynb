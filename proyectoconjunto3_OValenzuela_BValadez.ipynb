{
 "cells": [
  {
   "cell_type": "markdown",
   "metadata": {},
   "source": [
    "<img style=\"float: left; margin: 30px 15px 15px 15px;\" src=\"https://pngimage.net/wp-content/uploads/2018/06/logo-iteso-png-5.png\" width=\"300\" height=\"500\" /> \n",
    "    \n",
    "    \n",
    "### <font color='navy'> Simulación de procesos financieros. \n",
    "\n",
    "**Nombres:** Osckar Valenzuela y Michelle Valadez.\n",
    "\n",
    "**Fecha:** 22 de febrero del 2023.\n",
    "\n",
    "**Expediente** : XXX | 734547\n",
    "**Profesor:** Oscar David Jaramillo Zuluaga.\n",
    "    \n",
    "**Link Github**: https://github.com/Osckar11/proyectoconjunto3_OValenzuela_BValadez.git\n",
    "\n",
    "# Tarea 3: Clase 6"
   ]
  },
  {
   "cell_type": "markdown",
   "metadata": {},
   "source": [
    " ## Tarea 3: (Usando notebook de jupyter)** \n",
    "> Usando compresión de listas o funciones map(sino recuerda como funciona observar el siguiente enlace https://www.pythonforbeginners.com/lists/list-comprehensions-in-python/), resolver los siguientes ejercicios:"
   ]
  },
  {
   "cell_type": "markdown",
   "metadata": {},
   "source": [
    "### Ejercicio 1:\n",
    ">1. Resolver la siguiente ecuación recursiva usando funciones como se vió en clase\n",
    "$$ D_{n}=(n-1) D_{n-1}+(n-1) D_{n-2} \\quad n\\ge 3$$\n",
    "con $D_1=0$ y $D_2 = 1$\n"
   ]
  },
  {
   "cell_type": "markdown",
   "metadata": {},
   "source": [
    "Código de solución estudiante 1"
   ]
  },
  {
   "cell_type": "code",
   "execution_count": 4,
   "metadata": {},
   "outputs": [],
   "source": [
    "import numpy as np"
   ]
  },
  {
   "cell_type": "code",
   "execution_count": 15,
   "metadata": {
    "scrolled": true
   },
   "outputs": [
    {
     "name": "stdout",
     "output_type": "stream",
     "text": [
      "[0, 1, 2, 9, 44, 265, 1854, 14833, 133496, 1334961]\n"
     ]
    }
   ],
   "source": [
    "# Código de solución estudiante 1\n",
    "def calcular_d(n):\n",
    "    if n==1:\n",
    "        return 0\n",
    "    elif n==2:\n",
    "        return 1\n",
    "    else:\n",
    "        return (n-1) * calcular_d(n-1) + (n-1) * calcular_d(n-2)\n",
    "valores=[1,2,3,4,5,6,7,8,9,10]\n",
    "d_valor= list(map(calcular_d, valores))\n",
    "print (d_valor)"
   ]
  },
  {
   "cell_type": "code",
   "execution_count": null,
   "metadata": {},
   "outputs": [],
   "source": []
  },
  {
   "cell_type": "markdown",
   "metadata": {},
   "source": [
    "Código de solución estudiante 2"
   ]
  },
  {
   "cell_type": "code",
   "execution_count": null,
   "metadata": {},
   "outputs": [],
   "source": [
    "# Código de solución estudiante 2\n",
    "\n",
    "def calcular_D(n):\n",
    "    if n == 1:\n",
    "        return 0\n",
    "    elif n == 2:\n",
    "        return 1\n",
    "    else:\n",
    "        return (n-1) * calcular_D(n-1) + (n-1) * calcular_D(n-2)\n",
    "\n",
    "valores_de_n = [0,1,2,3, 4, 5,6,7,8] #pueden ser más si se desea\n",
    "d_valores = list(map(calcular_D, valores_de_n))\n",
    "\n",
    "print(d_valores)"
   ]
  },
  {
   "cell_type": "markdown",
   "metadata": {},
   "source": [
    "### Ejercicio 2:\n",
    ">2. Count the number of spaces in the following string `variable =  relaciónn  requiere,  para obtener  el  valor  de un  cierto  término,  el conocimiento de los dos anteriores`.\n"
   ]
  },
  {
   "cell_type": "markdown",
   "metadata": {},
   "source": [
    "Código de solución estudiante 1"
   ]
  },
  {
   "cell_type": "code",
   "execution_count": 1,
   "metadata": {},
   "outputs": [
    {
     "name": "stdout",
     "output_type": "stream",
     "text": [
      "La oracion consta de 26 espacios\n"
     ]
    }
   ],
   "source": [
    "variable = \"variable =  relación  requiere,  para obtener  el  valor  de un  cierto  término,  el conocimiento de los dos anteriores\"\n",
    "x= len(list(filter(lambda x: x==\" \",variable)))\n",
    "print(\"La oracion consta de\", x , \"espacios\")"
   ]
  },
  {
   "cell_type": "markdown",
   "metadata": {},
   "source": [
    "Código de solución estudiante 2"
   ]
  },
  {
   "cell_type": "code",
   "execution_count": 2,
   "metadata": {},
   "outputs": [
    {
     "name": "stdout",
     "output_type": "stream",
     "text": [
      "La oración contiene un total de 26 espacios\n"
     ]
    }
   ],
   "source": [
    "oracion = \"variable =  relación  requiere,  para obtener  el  valor  de un  cierto  término,  el conocimiento de los dos anteriores\"\n",
    "lista_de_caracteres = list(oracion)\n",
    "espacios = map(lambda x: 1 if x == \" \" else 0, lista_de_caracteres)\n",
    "print(\"La oración contiene un total de\", sum(espacios), \"espacios\")"
   ]
  },
  {
   "cell_type": "markdown",
   "metadata": {},
   "source": [
    "### Ejercicio 3:\n",
    ">3. Remove all of the vowels in a string [make a list of the non-vowels].\n"
   ]
  },
  {
   "cell_type": "markdown",
   "metadata": {},
   "source": [
    "Código de solución estudiante 1"
   ]
  },
  {
   "cell_type": "code",
   "execution_count": 10,
   "metadata": {},
   "outputs": [
    {
     "data": {
      "text/plain": [
       "['v',\n",
       " 'r',\n",
       " 'b',\n",
       " 'l',\n",
       " ' ',\n",
       " '=',\n",
       " ' ',\n",
       " ' ',\n",
       " 'r',\n",
       " 'l',\n",
       " 'c',\n",
       " 'n',\n",
       " ' ',\n",
       " ' ',\n",
       " 'r',\n",
       " 'q',\n",
       " 'r',\n",
       " ',',\n",
       " ' ',\n",
       " ' ',\n",
       " 'p',\n",
       " 'r',\n",
       " ' ',\n",
       " 'b',\n",
       " 't',\n",
       " 'n',\n",
       " 'r',\n",
       " ' ',\n",
       " ' ',\n",
       " 'l',\n",
       " ' ',\n",
       " ' ',\n",
       " 'v',\n",
       " 'l',\n",
       " 'r',\n",
       " ' ',\n",
       " ' ',\n",
       " 'd',\n",
       " ' ',\n",
       " 'n',\n",
       " ' ',\n",
       " ' ',\n",
       " 'c',\n",
       " 'r',\n",
       " 't',\n",
       " ' ',\n",
       " ' ',\n",
       " 't',\n",
       " 'r',\n",
       " 'm',\n",
       " 'n',\n",
       " ',',\n",
       " ' ',\n",
       " ' ',\n",
       " 'l',\n",
       " ' ',\n",
       " 'c',\n",
       " 'n',\n",
       " 'c',\n",
       " 'm',\n",
       " 'n',\n",
       " 't',\n",
       " ' ',\n",
       " 'd',\n",
       " ' ',\n",
       " 'l',\n",
       " 's',\n",
       " ' ',\n",
       " 'd',\n",
       " 's',\n",
       " ' ',\n",
       " 'n',\n",
       " 't',\n",
       " 'r',\n",
       " 'r',\n",
       " 's']"
      ]
     },
     "execution_count": 10,
     "metadata": {},
     "output_type": "execute_result"
    }
   ],
   "source": [
    "vowels= [\"a\",\"á\",\"e\",\"é\",\"i\",\"í\",\"o\",\"ó\",\"u\",\"ú\"]\n",
    "list(filter(lambda x: \"\" if x in vowels else x ,variable))"
   ]
  },
  {
   "cell_type": "markdown",
   "metadata": {},
   "source": [
    "Código de solución estudiante 2"
   ]
  },
  {
   "cell_type": "code",
   "execution_count": 3,
   "metadata": {},
   "outputs": [
    {
     "name": "stdout",
     "output_type": "stream",
     "text": [
      "La oración extrayendo las vocales resultaría así vrbl =  rlcn  rqr,  pr btnr  l  vlr  d n  crt  trmn,  l cncmnt d ls ds ntrrs\n"
     ]
    }
   ],
   "source": [
    "lista_de_vocales= list(\"aeiouáéíóúü\") \n",
    "sin_vocales = [ caracter for caracter in lista_de_caracteres if caracter.lower() not in lista_de_vocales]\n",
    "\n",
    "print(\"La oración extrayendo las vocales resultaría así\",\"\".join(sin_vocales)) # .join formará una cadena de caracteres, con los elementos de la lista dada\n"
   ]
  },
  {
   "cell_type": "markdown",
   "metadata": {},
   "source": [
    "### Ejercicio 4:\n",
    ">4. Find all of the words in a string that are less than 4 letters.\n"
   ]
  },
  {
   "cell_type": "markdown",
   "metadata": {},
   "source": [
    "Código de solución estudiante 1"
   ]
  },
  {
   "cell_type": "code",
   "execution_count": 13,
   "metadata": {
    "scrolled": true
   },
   "outputs": [
    {
     "name": "stdout",
     "output_type": "stream",
     "text": [
      "['=', 'para', 'el', 'de', 'un', 'el', 'de', 'los', 'dos']\n"
     ]
    }
   ],
   "source": [
    "less4=list(filter(lambda x: len(x) <= 4, variable.split()))\n",
    "print(less4)"
   ]
  },
  {
   "cell_type": "markdown",
   "metadata": {},
   "source": [
    "Código de solución estudiante 2"
   ]
  },
  {
   "cell_type": "code",
   "execution_count": 4,
   "metadata": {},
   "outputs": [
    {
     "name": "stdout",
     "output_type": "stream",
     "text": [
      "Las palabras con 4 letras son: ['para']\n"
     ]
    }
   ],
   "source": [
    "lista_de_palabras = oracion.split()\n",
    "palabras_de_4_letras = [palabra for palabra in lista_de_palabras if len(palabra) == 4]\n",
    "print(\"Las palabras con 4 letras son:\", palabras_de_4_letras)\n"
   ]
  },
  {
   "cell_type": "markdown",
   "metadata": {},
   "source": [
    "### Ejercicio 5:\n",
    ">5. Use a dictionary comprehension to count the length of each word in a sentence.\n"
   ]
  },
  {
   "cell_type": "markdown",
   "metadata": {},
   "source": [
    "Código de solución estudiante 1"
   ]
  },
  {
   "cell_type": "code",
   "execution_count": 15,
   "metadata": {
    "scrolled": true
   },
   "outputs": [
    {
     "data": {
      "text/plain": [
       "[8, 1, 8, 9, 4, 7, 2, 5, 2, 2, 6, 8, 2, 12, 2, 3, 3, 10]"
      ]
     },
     "execution_count": 15,
     "metadata": {},
     "output_type": "execute_result"
    }
   ],
   "source": [
    "separar= lambda x:len(x)\n",
    "count=[separar(x)for x in variable.split()]\n",
    "count"
   ]
  },
  {
   "cell_type": "markdown",
   "metadata": {},
   "source": [
    "Código de solución estudiante 2"
   ]
  },
  {
   "cell_type": "code",
   "execution_count": 7,
   "metadata": {},
   "outputs": [
    {
     "name": "stdout",
     "output_type": "stream",
     "text": [
      "La longitud de cada palabra es:  {'variable': 8, '=': 1, 'relación': 8, 'requiere,': 9, 'para': 4, 'obtener': 7, 'el': 2, 'valor': 5, 'de': 2, 'un': 2, 'cierto': 6, 'término,': 8, 'conocimiento': 12, 'los': 3, 'dos': 3, 'anteriores': 10}\n"
     ]
    }
   ],
   "source": [
    "compresion_diccionario= {palabra: len(palabra) for palabra in lista_de_palabras} #Los elementos de un diccionario se encuentran encerrados entre {} \n",
    "print(\"La longitud de cada palabra es: \",compresion_diccionario)\n"
   ]
  },
  {
   "cell_type": "markdown",
   "metadata": {},
   "source": [
    "### Ejercicio 6:\n",
    ">6. Use a nested list comprehension to find all of the numbers from 1-1000 that are divisible by any single digit besides 1 (2-9). "
   ]
  },
  {
   "cell_type": "markdown",
   "metadata": {},
   "source": [
    "Código de solución estudiante 1"
   ]
  },
  {
   "cell_type": "code",
   "execution_count": 19,
   "metadata": {
    "scrolled": true
   },
   "outputs": [
    {
     "data": {
      "text/plain": [
       "array([   2,    3,    4,    5,    6,    7,    8,    9,   10,   12,   14,\n",
       "         15,   16,   18,   20,   21,   22,   24,   25,   26,   27,   28,\n",
       "         30,   32,   33,   34,   35,   36,   38,   39,   40,   42,   44,\n",
       "         45,   46,   48,   49,   50,   51,   52,   54,   55,   56,   57,\n",
       "         58,   60,   62,   63,   64,   65,   66,   68,   69,   70,   72,\n",
       "         74,   75,   76,   77,   78,   80,   81,   82,   84,   85,   86,\n",
       "         87,   88,   90,   91,   92,   93,   94,   95,   96,   98,   99,\n",
       "        100,  102,  104,  105,  106,  108,  110,  111,  112,  114,  115,\n",
       "        116,  117,  118,  119,  120,  122,  123,  124,  125,  126,  128,\n",
       "        129,  130,  132,  133,  134,  135,  136,  138,  140,  141,  142,\n",
       "        144,  145,  146,  147,  148,  150,  152,  153,  154,  155,  156,\n",
       "        158,  159,  160,  161,  162,  164,  165,  166,  168,  170,  171,\n",
       "        172,  174,  175,  176,  177,  178,  180,  182,  183,  184,  185,\n",
       "        186,  188,  189,  190,  192,  194,  195,  196,  198,  200,  201,\n",
       "        202,  203,  204,  205,  206,  207,  208,  210,  212,  213,  214,\n",
       "        215,  216,  217,  218,  219,  220,  222,  224,  225,  226,  228,\n",
       "        230,  231,  232,  234,  235,  236,  237,  238,  240,  242,  243,\n",
       "        244,  245,  246,  248,  249,  250,  252,  254,  255,  256,  258,\n",
       "        259,  260,  261,  262,  264,  265,  266,  267,  268,  270,  272,\n",
       "        273,  274,  275,  276,  278,  279,  280,  282,  284,  285,  286,\n",
       "        287,  288,  290,  291,  292,  294,  295,  296,  297,  298,  300,\n",
       "        301,  302,  303,  304,  305,  306,  308,  309,  310,  312,  314,\n",
       "        315,  316,  318,  320,  321,  322,  324,  325,  326,  327,  328,\n",
       "        329,  330,  332,  333,  334,  335,  336,  338,  339,  340,  342,\n",
       "        343,  344,  345,  346,  348,  350,  351,  352,  354,  355,  356,\n",
       "        357,  358,  360,  362,  363,  364,  365,  366,  368,  369,  370,\n",
       "        371,  372,  374,  375,  376,  378,  380,  381,  382,  384,  385,\n",
       "        386,  387,  388,  390,  392,  393,  394,  395,  396,  398,  399,\n",
       "        400,  402,  404,  405,  406,  408,  410,  411,  412,  413,  414,\n",
       "        415,  416,  417,  418,  420,  422,  423,  424,  425,  426,  427,\n",
       "        428,  429,  430,  432,  434,  435,  436,  438,  440,  441,  442,\n",
       "        444,  445,  446,  447,  448,  450,  452,  453,  454,  455,  456,\n",
       "        458,  459,  460,  462,  464,  465,  466,  468,  469,  470,  471,\n",
       "        472,  474,  475,  476,  477,  478,  480,  482,  483,  484,  485,\n",
       "        486,  488,  489,  490,  492,  494,  495,  496,  497,  498,  500,\n",
       "        501,  502,  504,  505,  506,  507,  508,  510,  511,  512,  513,\n",
       "        514,  515,  516,  518,  519,  520,  522,  524,  525,  526,  528,\n",
       "        530,  531,  532,  534,  535,  536,  537,  538,  539,  540,  542,\n",
       "        543,  544,  545,  546,  548,  549,  550,  552,  553,  554,  555,\n",
       "        556,  558,  560,  561,  562,  564,  565,  566,  567,  568,  570,\n",
       "        572,  573,  574,  575,  576,  578,  579,  580,  581,  582,  584,\n",
       "        585,  586,  588,  590,  591,  592,  594,  595,  596,  597,  598,\n",
       "        600,  602,  603,  604,  605,  606,  608,  609,  610,  612,  614,\n",
       "        615,  616,  618,  620,  621,  622,  623,  624,  625,  626,  627,\n",
       "        628,  630,  632,  633,  634,  635,  636,  637,  638,  639,  640,\n",
       "        642,  644,  645,  646,  648,  650,  651,  652,  654,  655,  656,\n",
       "        657,  658,  660,  662,  663,  664,  665,  666,  668,  669,  670,\n",
       "        672,  674,  675,  676,  678,  679,  680,  681,  682,  684,  685,\n",
       "        686,  687,  688,  690,  692,  693,  694,  695,  696,  698,  699,\n",
       "        700,  702,  704,  705,  706,  707,  708,  710,  711,  712,  714,\n",
       "        715,  716,  717,  718,  720,  721,  722,  723,  724,  725,  726,\n",
       "        728,  729,  730,  732,  734,  735,  736,  738,  740,  741,  742,\n",
       "        744,  745,  746,  747,  748,  749,  750,  752,  753,  754,  755,\n",
       "        756,  758,  759,  760,  762,  763,  764,  765,  766,  768,  770,\n",
       "        771,  772,  774,  775,  776,  777,  778,  780,  782,  783,  784,\n",
       "        785,  786,  788,  789,  790,  791,  792,  794,  795,  796,  798,\n",
       "        800,  801,  802,  804,  805,  806,  807,  808,  810,  812,  813,\n",
       "        814,  815,  816,  818,  819,  820,  822,  824,  825,  826,  828,\n",
       "        830,  831,  832,  833,  834,  835,  836,  837,  838,  840,  842,\n",
       "        843,  844,  845,  846,  847,  848,  849,  850,  852,  854,  855,\n",
       "        856,  858,  860,  861,  862,  864,  865,  866,  867,  868,  870,\n",
       "        872,  873,  874,  875,  876,  878,  879,  880,  882,  884,  885,\n",
       "        886,  888,  889,  890,  891,  892,  894,  895,  896,  897,  898,\n",
       "        900,  902,  903,  904,  905,  906,  908,  909,  910,  912,  914,\n",
       "        915,  916,  917,  918,  920,  921,  922,  924,  925,  926,  927,\n",
       "        928,  930,  931,  932,  933,  934,  935,  936,  938,  939,  940,\n",
       "        942,  944,  945,  946,  948,  950,  951,  952,  954,  955,  956,\n",
       "        957,  958,  959,  960,  962,  963,  964,  965,  966,  968,  969,\n",
       "        970,  972,  973,  974,  975,  976,  978,  980,  981,  982,  984,\n",
       "        985,  986,  987,  988,  990,  992,  993,  994,  995,  996,  998,\n",
       "        999, 1000])"
      ]
     },
     "execution_count": 19,
     "metadata": {},
     "output_type": "execute_result"
    }
   ],
   "source": [
    "numeros= np.arange(1,1001)\n",
    "np.array([i for i in numeros if [d for d in range (2,9) if i%d==0]])"
   ]
  },
  {
   "cell_type": "markdown",
   "metadata": {},
   "source": [
    "Código de solución estudiante 2"
   ]
  },
  {
   "cell_type": "code",
   "execution_count": 8,
   "metadata": {},
   "outputs": [
    {
     "name": "stdout",
     "output_type": "stream",
     "text": [
      "Números del 1 al 1000 que son divisibles por cualquier dígito aparte del 1 (2-9): \n",
      "[2, 3, 4, 5, 6, 7, 8, 9, 12, 15, 20, 22, 24, 25, 26, 28, 30, 32, 33, 35, 36, 39, 40, 42, 44, 45, 48, 50, 52, 55, 60, 62, 63, 64, 65, 66, 70, 72, 75, 77, 80, 82, 84, 85, 88, 90, 92, 93, 95, 96, 99, 102, 104, 105, 112, 115, 120, 122, 123, 124, 125, 126, 128, 132, 135, 138, 140, 142, 144, 145, 147, 148, 150, 152, 153, 155, 156, 162, 164, 165, 168, 172, 175, 182, 183, 184, 185, 186, 189, 192, 195, 198, 200, 202, 204, 205, 206, 208, 210, 212, 213, 214, 215, 216, 217, 218, 220, 222, 224, 225, 226, 228, 230, 231, 232, 234, 235, 236, 237, 238, 240, 242, 243, 244, 245, 246, 248, 250, 252, 254, 255, 256, 258, 260, 262, 264, 265, 266, 268, 270, 272, 273, 274, 275, 276, 278, 279, 280, 282, 284, 285, 286, 287, 288, 290, 292, 294, 295, 296, 297, 298, 300, 302, 303, 304, 305, 306, 309, 312, 315, 318, 320, 321, 322, 324, 325, 326, 327, 328, 330, 332, 333, 335, 336, 339, 340, 342, 344, 345, 348, 350, 351, 352, 354, 355, 357, 360, 362, 363, 364, 365, 366, 368, 369, 371, 372, 375, 378, 381, 382, 384, 385, 387, 390, 392, 393, 395, 396, 399, 400, 402, 404, 405, 408, 412, 415, 416, 420, 422, 423, 424, 425, 426, 427, 428, 432, 435, 436, 438, 440, 442, 444, 445, 448, 450, 452, 453, 455, 456, 459, 460, 462, 464, 465, 468, 472, 475, 476, 480, 482, 483, 484, 485, 486, 488, 492, 495, 496, 497, 500, 502, 504, 505, 510, 512, 513, 515, 516, 520, 522, 524, 525, 526, 528, 530, 531, 532, 534, 535, 537, 540, 542, 543, 544, 545, 546, 548, 549, 550, 552, 555, 560, 562, 564, 565, 567, 568, 570, 572, 573, 574, 575, 576, 580, 582, 584, 585, 590, 592, 594, 595, 600, 602, 603, 604, 605, 606, 608, 612, 615, 618, 620, 622, 624, 625, 626, 628, 630, 632, 633, 635, 636, 637, 639, 640, 642, 644, 645, 648, 650, 652, 654, 655, 660, 662, 663, 664, 665, 666, 672, 675, 678, 679, 680, 682, 684, 685, 688, 690, 692, 693, 695, 696, 700, 702, 704, 705, 707, 712, 714, 715, 720, 721, 722, 723, 724, 725, 726, 728, 729, 732, 735, 738, 740, 742, 744, 745, 748, 749, 750, 752, 753, 755, 756, 762, 763, 764, 765, 768, 770, 772, 775, 777, 782, 783, 784, 785, 786, 791, 792, 795, 798, 800, 802, 804, 805, 808, 812, 813, 815, 816, 819, 820, 822, 824, 825, 826, 828, 831, 832, 834, 835, 837, 840, 842, 843, 844, 845, 846, 847, 848, 850, 852, 855, 856, 862, 864, 865, 872, 873, 875, 876, 880, 882, 884, 885, 888, 891, 892, 895, 896, 900, 902, 903, 904, 905, 906, 909, 912, 915, 917, 918, 920, 922, 924, 925, 926, 927, 928, 930, 932, 933, 935, 936, 939, 940, 942, 944, 945, 948, 950, 952, 954, 955, 960, 962, 963, 964, 965, 966, 968, 972, 973, 975, 981, 982, 984, 985, 987, 990, 992, 993, 995, 996, 999]\n"
     ]
    }
   ],
   "source": [
    "numeros_divisibles = [numero for numero in range(1, 1001) if any(str(digito) != '1' and int(digito) != 0 and numero % int(digito) == 0 for digito in str(numero))]\n",
    "\n",
    "print(\"Números del 1 al 1000 que son divisibles por cualquier dígito aparte del 1 (2-9): \")\n",
    "print(numeros_divisibles)"
   ]
  }
 ],
 "metadata": {
  "kernelspec": {
   "display_name": "Python 3 (ipykernel)",
   "language": "python",
   "name": "python3"
  },
  "language_info": {
   "codemirror_mode": {
    "name": "ipython",
    "version": 3
   },
   "file_extension": ".py",
   "mimetype": "text/x-python",
   "name": "python",
   "nbconvert_exporter": "python",
   "pygments_lexer": "ipython3",
   "version": "3.9.13"
  }
 },
 "nbformat": 4,
 "nbformat_minor": 2
}
